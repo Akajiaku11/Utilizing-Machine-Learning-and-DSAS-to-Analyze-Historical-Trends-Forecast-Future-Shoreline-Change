{
  "nbformat": 4,
  "nbformat_minor": 0,
  "metadata": {
    "colab": {
      "provenance": [],
      "authorship_tag": "ABX9TyPD1oWko6kGQU/1fyt1eXG5",
      "include_colab_link": true
    },
    "kernelspec": {
      "name": "python3",
      "display_name": "Python 3"
    },
    "language_info": {
      "name": "python"
    }
  },
  "cells": [
    {
      "cell_type": "markdown",
      "metadata": {
        "id": "view-in-github",
        "colab_type": "text"
      },
      "source": [
        "<a href=\"https://colab.research.google.com/github/eteh1/Historical-Trends-and-Forecast-Future-Shoreline-Changes-1974-2024/blob/main/Shoreline.ipynb\" target=\"_parent\"><img src=\"https://colab.research.google.com/assets/colab-badge.svg\" alt=\"Open In Colab\"/></a>"
      ]
    },
    {
      "cell_type": "code",
      "execution_count": null,
      "metadata": {
        "id": "VPaoQd1RYfKc"
      },
      "outputs": [],
      "source": [
        "import numpy as np\n",
        "import pandas as pd\n",
        "import rasterio\n",
        "from sklearn.ensemble import RandomForestRegressor\n",
        "from sklearn.model_selection import train_test_split\n",
        "from sklearn.metrics import mean_squared_error\n",
        "import matplotlib.pyplot as plt\n",
        "\n",
        "# Step 1: Load and preprocess satellite data\n",
        "def load_satellite_data(file_path):\n",
        "    with rasterio.open(file_path) as src:\n",
        "        data = src.read(1)  # Read the first band\n",
        "        transform = src.transform\n",
        "    return data, transform\n",
        "\n",
        "# Example: Load Landsat data for different years\n",
        "data_1974, transform_1974 = load_satellite_data('path_to_landsat_1974.tif')\n",
        "data_1984, transform_1984 = load_satellite_data('path_to_landsat_1984.tif')\n",
        "data_1994, transform_1994 = load_satellite_data('path_to_landsat_1994.tif')\n",
        "data_2004, transform_2004 = load_satellite_data('path_to_landsat_2004.tif')\n",
        "data_2014, transform_2014 = load_satellite_data('path_to_landsat_2014.tif')\n",
        "data_2024, transform_2024 = load_satellite_data('path_to_landsat_2024.tif')\n",
        "\n",
        "# Step 2: Extract shoreline data (simplified example)\n",
        "def extract_shoreline(data):\n",
        "    # This is a simplified example; actual shoreline extraction would involve more complex methods\n",
        "    shoreline = np.where(data > 0, 1, 0)  # Example thresholding\n",
        "    return shoreline\n",
        "\n",
        "shoreline_1974 = extract_shoreline(data_1974)\n",
        "shoreline_1984 = extract_shoreline(data_1984)\n",
        "shoreline_1994 = extract_shoreline(data_1994)\n",
        "shoreline_2004 = extract_shoreline(data_2004)\n",
        "shoreline_2014 = extract_shoreline(data_2014)\n",
        "shoreline_2024 = extract_shoreline(data_2024)\n",
        "\n",
        "# Step 3: Prepare dataset for machine learning\n",
        "def prepare_dataset(shorelines, years):\n",
        "    X = []\n",
        "    y = []\n",
        "    for i in range(len(shorelines) - 1):\n",
        "        X.append(shorelines[i].flatten())\n",
        "        y.append(shorelines[i + 1].flatten())\n",
        "    return np.array(X), np.array(y), years[:-1]\n",
        "\n",
        "shorelines = [shoreline_1974, shoreline_1984, shoreline_1994, shoreline_2004, shoreline_2014, shoreline_2024]\n",
        "years = [1974, 1984, 1994, 2004, 2014, 2024]\n",
        "X, y, years = prepare_dataset(shorelines, years)\n",
        "\n",
        "# Step 4: Train a machine learning model\n",
        "X_train, X_test, y_train, y_test = train_test_split(X, y, test_size=0.2, random_state=42)\n",
        "\n",
        "model = RandomForestRegressor(n_estimators=100, random_state=42)\n",
        "model.fit(X_train, y_train)\n",
        "\n",
        "# Step 5: Validate the model\n",
        "y_pred = model.predict(X_test)\n",
        "mse = mean_squared_error(y_test, y_pred)\n",
        "print(f'Mean Squared Error: {mse}')\n",
        "\n",
        "# Step 6: Forecast future shoreline changes\n",
        "future_year = 2024\n",
        "future_shoreline = model.predict(shoreline_2024.flatten().reshape(1, -1))\n",
        "future_shoreline = future_shoreline.reshape(shoreline_2024.shape)\n",
        "\n",
        "# Visualize the results\n",
        "plt.figure(figsize=(10, 5))\n",
        "plt.subplot(1, 2, 1)\n",
        "plt.title('Shoreline 2024 (Actual)')\n",
        "plt.imshow(shoreline_2024, cmap='gray')\n",
        "\n",
        "plt.subplot(1, 2, 2)\n",
        "plt.title('Shoreline 2024 (Predicted)')\n",
        "plt.imshow(future_shoreline, cmap='gray')\n",
        "\n",
        "plt.show()"
      ]
    }
  ]
}